{
 "cells": [
  {
   "cell_type": "code",
   "execution_count": 1,
   "id": "7b3011cb-a79c-4b7a-85a6-cc30a738f0a9",
   "metadata": {},
   "outputs": [],
   "source": [
    "import pandas as pd\n",
    "\n",
    "from dataCollection.main import get_restaurant_reviews"
   ]
  },
  {
   "cell_type": "code",
   "execution_count": 2,
   "id": "bfd07408-e249-4bb9-8862-a7bf0acd2986",
   "metadata": {},
   "outputs": [],
   "source": [
    "all_restaurant_name = [\n",
    "    'Sushi Groove',\n",
    "    \"The People's Cafe\",\n",
    "    'Tokyo Belly', \n",
    "    'Pizza e Birra' \n",
    "]"
   ]
  },
  {
   "cell_type": "code",
   "execution_count": 3,
   "id": "25a036ad-7008-49c1-8183-3ad2d9b910ef",
   "metadata": {},
   "outputs": [],
   "source": [
    "entire_reviews = pd.DataFrame()\n",
    "\n",
    "for restaurant_name in all_restaurant_name:\n",
    "    try:\n",
    "        all_reviews = get_restaurant_reviews(restaurant_name)\n",
    "        entire_reviews = pd.concat((entire_reviews, all_reviews))\n",
    "    except:\n",
    "        pass\n",
    "\n",
    "entire_reviews.reset_index(drop=True, inplace=True)"
   ]
  },
  {
   "cell_type": "code",
   "execution_count": 4,
   "id": "139c8f54-323c-4367-9d08-422260197de3",
   "metadata": {},
   "outputs": [],
   "source": [
    "entire_reviews.to_csv('database/food_review_data.csv', index=False)"
   ]
  },
  {
   "cell_type": "code",
   "execution_count": 5,
   "id": "7169a781-3a60-47d4-a2cc-b1fd7fea8172",
   "metadata": {},
   "outputs": [
    {
     "data": {
      "text/html": [
       "<div>\n",
       "<style scoped>\n",
       "    .dataframe tbody tr th:only-of-type {\n",
       "        vertical-align: middle;\n",
       "    }\n",
       "\n",
       "    .dataframe tbody tr th {\n",
       "        vertical-align: top;\n",
       "    }\n",
       "\n",
       "    .dataframe thead th {\n",
       "        text-align: right;\n",
       "    }\n",
       "</style>\n",
       "<table border=\"1\" class=\"dataframe\">\n",
       "  <thead>\n",
       "    <tr style=\"text-align: right;\">\n",
       "      <th></th>\n",
       "      <th>restaurant_review</th>\n",
       "      <th>restaurant_name</th>\n",
       "      <th>review_source</th>\n",
       "    </tr>\n",
       "  </thead>\n",
       "  <tbody>\n",
       "    <tr>\n",
       "      <th>0</th>\n",
       "      <td>Sejujurnya menikmati sushi melalui jasa pesan ...</td>\n",
       "      <td>Sushi Groove</td>\n",
       "      <td>https://pergikuliner.com/restaurants/bandung/s...</td>\n",
       "    </tr>\n",
       "    <tr>\n",
       "      <th>1</th>\n",
       "      <td>First time cobain groove dan ternyata enak sem...</td>\n",
       "      <td>Sushi Groove</td>\n",
       "      <td>https://pergikuliner.com/restaurants/bandung/s...</td>\n",
       "    </tr>\n",
       "    <tr>\n",
       "      <th>2</th>\n",
       "      <td>Salah satu tempat sushi yang si saya suka. Tap...</td>\n",
       "      <td>Sushi Groove</td>\n",
       "      <td>https://pergikuliner.com/restaurants/bandung/s...</td>\n",
       "    </tr>\n",
       "    <tr>\n",
       "      <th>3</th>\n",
       "      <td>Akhirnya disini ada promo all you can eat.. tp...</td>\n",
       "      <td>Sushi Groove</td>\n",
       "      <td>https://pergikuliner.com/restaurants/bandung/s...</td>\n",
       "    </tr>\n",
       "    <tr>\n",
       "      <th>4</th>\n",
       "      <td>Sushi nya enak ada crab sticknya juga tapi unt...</td>\n",
       "      <td>Sushi Groove</td>\n",
       "      <td>https://pergikuliner.com/restaurants/bandung/s...</td>\n",
       "    </tr>\n",
       "  </tbody>\n",
       "</table>\n",
       "</div>"
      ],
      "text/plain": [
       "                                   restaurant_review restaurant_name  \\\n",
       "0  Sejujurnya menikmati sushi melalui jasa pesan ...    Sushi Groove   \n",
       "1  First time cobain groove dan ternyata enak sem...    Sushi Groove   \n",
       "2  Salah satu tempat sushi yang si saya suka. Tap...    Sushi Groove   \n",
       "3  Akhirnya disini ada promo all you can eat.. tp...    Sushi Groove   \n",
       "4  Sushi nya enak ada crab sticknya juga tapi unt...    Sushi Groove   \n",
       "\n",
       "                                       review_source  \n",
       "0  https://pergikuliner.com/restaurants/bandung/s...  \n",
       "1  https://pergikuliner.com/restaurants/bandung/s...  \n",
       "2  https://pergikuliner.com/restaurants/bandung/s...  \n",
       "3  https://pergikuliner.com/restaurants/bandung/s...  \n",
       "4  https://pergikuliner.com/restaurants/bandung/s...  "
      ]
     },
     "execution_count": 5,
     "metadata": {},
     "output_type": "execute_result"
    }
   ],
   "source": [
    "entire_reviews.head()"
   ]
  },
  {
   "cell_type": "code",
   "execution_count": 6,
   "id": "cc51bdc7-d170-4f96-8eb0-3a4bf438446d",
   "metadata": {},
   "outputs": [
    {
     "name": "stdout",
     "output_type": "stream",
     "text": [
      "<class 'pandas.core.frame.DataFrame'>\n",
      "RangeIndex: 333 entries, 0 to 332\n",
      "Data columns (total 3 columns):\n",
      " #   Column             Non-Null Count  Dtype \n",
      "---  ------             --------------  ----- \n",
      " 0   restaurant_review  333 non-null    object\n",
      " 1   restaurant_name    333 non-null    object\n",
      " 2   review_source      333 non-null    object\n",
      "dtypes: object(3)\n",
      "memory usage: 7.9+ KB\n"
     ]
    }
   ],
   "source": [
    "entire_reviews.info()"
   ]
  }
 ],
 "metadata": {
  "kernelspec": {
   "display_name": "Python 3 (ipykernel)",
   "language": "python",
   "name": "python3"
  },
  "language_info": {
   "codemirror_mode": {
    "name": "ipython",
    "version": 3
   },
   "file_extension": ".py",
   "mimetype": "text/x-python",
   "name": "python",
   "nbconvert_exporter": "python",
   "pygments_lexer": "ipython3",
   "version": "3.13.5"
  }
 },
 "nbformat": 4,
 "nbformat_minor": 5
}
