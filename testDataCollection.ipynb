{
 "cells": [
  {
   "cell_type": "code",
   "execution_count": 1,
   "id": "7b3011cb-a79c-4b7a-85a6-cc30a738f0a9",
   "metadata": {},
   "outputs": [],
   "source": [
    "import pandas as pd\n",
    "\n",
    "from dataCollection.main import get_restaurant_reviews"
   ]
  },
  {
   "cell_type": "code",
   "execution_count": 2,
   "id": "bfd07408-e249-4bb9-8862-a7bf0acd2986",
   "metadata": {},
   "outputs": [],
   "source": [
    "all_restaurant_name = [\n",
    "    'Sushi Groove',\n",
    "    \"The People's Cafe\",\n",
    "    'Tokyo Belly', \n",
    "    'Kitchenette', \n",
    "    'Publik Markette', \n",
    "    'Sejuice Me', \n",
    "    'Djournal Coffee', \n",
    "    'Haraku Ramen', \n",
    "    'Cafe Kissa', \n",
    "    'Markette'\n",
    "]"
   ]
  },
  {
   "cell_type": "code",
   "execution_count": 3,
   "id": "25a036ad-7008-49c1-8183-3ad2d9b910ef",
   "metadata": {},
   "outputs": [],
   "source": [
    "entire_reviews = pd.DataFrame()\n",
    "\n",
    "for restaurant_name in all_restaurant_name:\n",
    "    try:\n",
    "        all_reviews = get_restaurant_reviews(restaurant_name)\n",
    "        entire_reviews = pd.concat((entire_reviews, all_reviews))\n",
    "    except:\n",
    "        pass\n",
    "\n",
    "entire_reviews.reset_index(drop=True, inplace=True)"
   ]
  },
  {
   "cell_type": "code",
   "execution_count": 5,
   "id": "139c8f54-323c-4367-9d08-422260197de3",
   "metadata": {},
   "outputs": [],
   "source": [
    "entire_reviews.to_csv('food_review_data.csv', index=False)"
   ]
  },
  {
   "cell_type": "code",
   "execution_count": null,
   "id": "972ac5b0-287a-40e3-b2a7-716ef86e3d1a",
   "metadata": {},
   "outputs": [],
   "source": []
  }
 ],
 "metadata": {
  "kernelspec": {
   "display_name": "Python 3 (ipykernel)",
   "language": "python",
   "name": "python3"
  },
  "language_info": {
   "codemirror_mode": {
    "name": "ipython",
    "version": 3
   },
   "file_extension": ".py",
   "mimetype": "text/x-python",
   "name": "python",
   "nbconvert_exporter": "python",
   "pygments_lexer": "ipython3",
   "version": "3.13.5"
  }
 },
 "nbformat": 4,
 "nbformat_minor": 5
}
