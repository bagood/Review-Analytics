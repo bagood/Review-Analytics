{
 "cells": [
  {
   "cell_type": "code",
   "execution_count": 1,
   "id": "6a34e554-3170-484d-b14c-44f33fada424",
   "metadata": {},
   "outputs": [],
   "source": [
    "from reviewAnalytics.main import summarize_and_categorize_review"
   ]
  },
  {
   "cell_type": "code",
   "execution_count": 2,
   "id": "d442b42f-0692-4fc4-a378-99a9604497f7",
   "metadata": {},
   "outputs": [],
   "source": [
    "review_text = \"\"\"\n",
    "Karena pandemi, resto satu ini lumayan banget promo delivery-nya. Kali ini coba pizza.\n",
    "\n",
    "Pepperoni Classic Crust Pizza (dari 93,5k jadi 60,5k)\n",
    "Awalnya bingung ini bakal sebesar apa, ternyata lumayan. Diameternya sekitar 25 cm, isinya 6 slices. Pizzanya gak terlalu tipis, apalagi pinggirannya, lumayan keras dan melatih rahang.\n",
    "\n",
    "Kejunya lumayan banyak, jadi rasa asinnya mendominasi. Pepperoni-nya merata sih. Okelah untuk harga promo. Makan tiga slices sudah lumayan mengenyangkan~\n",
    "\n",
    "Overall oke banget buat ukuran pizza promo. Ini pesan lewat Sho*pe Food ya, soalnya masih banyak promo. Cus coba!\n",
    "\"\"\""
   ]
  },
  {
   "cell_type": "code",
   "execution_count": 3,
   "id": "fc32ed34-7e04-47af-8806-da6f6dc1d050",
   "metadata": {},
   "outputs": [],
   "source": [
    "response_text = summarize_and_categorize_review(review_text)"
   ]
  },
  {
   "cell_type": "code",
   "execution_count": 4,
   "id": "74174d03-c3a7-4e38-9f0a-bda90494fd57",
   "metadata": {},
   "outputs": [
    {
     "name": "stdout",
     "output_type": "stream",
     "text": [
      "{\n",
      "  \"Ambience\": {\n",
      "    \"mentioned\": false,\n",
      "    \"summary\": null,\n",
      "    \"sentiment\": \"Neutral\"\n",
      "  },\n",
      "  \"Food\": {\n",
      "    \"mentioned\": true,\n",
      "    \"summary\": \"The pepperoni classic crust pizza is reasonably sized with a 25 cm diameter and 6 slices. The crust is not too thin, especially the edges, which are quite crispy and challenging to chew. The cheese content is generous, making the flavor slightly salty, with the pepperoni evenly distributed. Three slices are sufficient to be satisfying.\",\n",
      "    \"sentiment\": \"Positive\"\n",
      "  },\n",
      "  \"Price\": {\n",
      "    \"mentioned\": true,\n",
      "    \"summary\": \"The pizza is offered at a promotional price of 60,5k (originally 93,5k), making it a good value for the size and portion. The reviewer finds it reasonably filling for the price.\",\n",
      "    \"sentiment\": \"Positive\"\n",
      "  },\n",
      "  \"Service\": {\n",
      "    \"mentioned\": false,\n",
      "    \"summary\": null,\n",
      "    \"sentiment\": \"Neutral\"\n",
      "  }\n",
      "}\n"
     ]
    }
   ],
   "source": [
    "print(response_text)"
   ]
  }
 ],
 "metadata": {
  "kernelspec": {
   "display_name": "Python 3 (ipykernel)",
   "language": "python",
   "name": "python3"
  },
  "language_info": {
   "codemirror_mode": {
    "name": "ipython",
    "version": 3
   },
   "file_extension": ".py",
   "mimetype": "text/x-python",
   "name": "python",
   "nbconvert_exporter": "python",
   "pygments_lexer": "ipython3",
   "version": "3.13.5"
  }
 },
 "nbformat": 4,
 "nbformat_minor": 5
}
