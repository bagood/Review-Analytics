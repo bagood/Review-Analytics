{
 "cells": [
  {
   "cell_type": "code",
   "execution_count": null,
   "id": "548fe6bf-d04e-4e95-95f4-b0a9076476f9",
   "metadata": {},
   "outputs": [],
   "source": [
    "import os\n",
    "\n",
    "import numpy as np\n",
    "import pandas as pd"
   ]
  },
  {
   "cell_type": "code",
   "execution_count": null,
   "id": "6a34e554-3170-484d-b14c-44f33fada424",
   "metadata": {},
   "outputs": [],
   "source": [
    "from reviewAnalytics.main import summarize_and_categorize_review, categorize_aspects_of_food_review\n",
    "from reviewAnalytics.helper import _get_credentials, _categorize_aspects_of_food_review"
   ]
  },
  {
   "cell_type": "code",
   "execution_count": null,
   "id": "fa13076d-f9e4-4ab0-98e5-1ac0184ab4d3",
   "metadata": {},
   "outputs": [],
   "source": [
    "data = pd.read_csv('food_review_data.csv').sample(frac=0.025)"
   ]
  },
  {
   "cell_type": "code",
   "execution_count": null,
   "id": "d9c0050b-77fe-4114-b1fe-554b19831a70",
   "metadata": {},
   "outputs": [],
   "source": [
    "summarized_data = summarize_and_categorize_review(data, 'restaurant_review')\n",
    "summarized_data.to_csv('database/summarized_food_review_data.csv', index=False)"
   ]
  },
  {
   "cell_type": "code",
   "execution_count": null,
   "id": "634b50b1-d383-41a1-beed-52be77c5aed4",
   "metadata": {},
   "outputs": [],
   "source": [
    "summarized_data.head()"
   ]
  },
  {
   "cell_type": "code",
   "execution_count": null,
   "id": "323c721d-e187-4b6e-b74e-09796e9b2dd6",
   "metadata": {},
   "outputs": [],
   "source": [
    "detailed_food_review = categorize_aspects_of_food_review(summarized_data)\n",
    "detailed_food_review.to_csv('database/detailed_food_review.csv', index=False)"
   ]
  },
  {
   "cell_type": "code",
   "execution_count": null,
   "id": "4d64a18e-2631-43dc-a56c-bebbdf7690a2",
   "metadata": {},
   "outputs": [],
   "source": [
    "detailed_food_review.head()"
   ]
  }
 ],
 "metadata": {
  "kernelspec": {
   "display_name": "Python 3 (ipykernel)",
   "language": "python",
   "name": "python3"
  },
  "language_info": {
   "codemirror_mode": {
    "name": "ipython",
    "version": 3
   },
   "file_extension": ".py",
   "mimetype": "text/x-python",
   "name": "python",
   "nbconvert_exporter": "python",
   "pygments_lexer": "ipython3",
   "version": "3.13.5"
  }
 },
 "nbformat": 4,
 "nbformat_minor": 5
}
